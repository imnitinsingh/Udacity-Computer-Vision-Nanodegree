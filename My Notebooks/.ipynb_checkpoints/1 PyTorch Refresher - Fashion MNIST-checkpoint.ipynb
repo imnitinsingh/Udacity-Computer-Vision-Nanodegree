{
 "cells": [
  {
   "cell_type": "markdown",
   "id": "8d850eaf",
   "metadata": {},
   "source": [
    "# Neural Networks in PyTorch"
   ]
  },
  {
   "cell_type": "code",
   "execution_count": 59,
   "id": "1f3cda16",
   "metadata": {
    "ExecuteTime": {
     "end_time": "2022-05-21T16:56:48.814813Z",
     "start_time": "2022-05-21T16:56:48.804838Z"
    }
   },
   "outputs": [],
   "source": [
    "# Critical to avoid kernel dying from imshow()\n",
    "import os    \n",
    "os.environ['KMP_DUPLICATE_LIB_OK']='True'"
   ]
  },
  {
   "cell_type": "code",
   "execution_count": 60,
   "id": "e1efa824",
   "metadata": {
    "ExecuteTime": {
     "end_time": "2022-05-21T16:56:48.829773Z",
     "start_time": "2022-05-21T16:56:48.815809Z"
    }
   },
   "outputs": [],
   "source": [
    "# Import things like usual\n",
    "\n",
    "%matplotlib inline\n",
    "%config InlineBackend.figure_format = 'retina'\n",
    "\n",
    "import numpy as np\n",
    "import torch\n",
    "\n",
    "import helper_1\n",
    "\n",
    "import matplotlib.pyplot as plt\n",
    "from torchvision import datasets, transforms"
   ]
  },
  {
   "cell_type": "code",
   "execution_count": 61,
   "id": "5524d640",
   "metadata": {
    "ExecuteTime": {
     "end_time": "2022-05-21T16:56:48.877650Z",
     "start_time": "2022-05-21T16:56:48.830771Z"
    }
   },
   "outputs": [],
   "source": [
    "# Define a transform to normalize the data\n",
    "transform = transforms.Compose([transforms.ToTensor(),\n",
    "                              transforms.Normalize((0.5), (0.5)),\n",
    "                             ])\n",
    "# Download and load the training data\n",
    "trainset = datasets.MNIST('MNIST_data/', download=True, train=True, transform=transform)\n",
    "trainloader = torch.utils.data.DataLoader(trainset, batch_size=64, shuffle=True)\n",
    "\n",
    "# Download and load the test data\n",
    "testset = datasets.MNIST('MNIST_data/', download=True, train=False, transform=transform)\n",
    "testloader = torch.utils.data.DataLoader(testset, batch_size=64, shuffle=True)"
   ]
  },
  {
   "cell_type": "code",
   "execution_count": 62,
   "id": "e9fd5240",
   "metadata": {
    "ExecuteTime": {
     "end_time": "2022-05-21T16:56:48.908570Z",
     "start_time": "2022-05-21T16:56:48.879645Z"
    }
   },
   "outputs": [],
   "source": [
    "dataiter = iter(trainloader)\n",
    "images, labels = dataiter.next()"
   ]
  },
  {
   "cell_type": "code",
   "execution_count": 63,
   "id": "39d4dce8",
   "metadata": {
    "ExecuteTime": {
     "end_time": "2022-05-21T16:56:49.036240Z",
     "start_time": "2022-05-21T16:56:48.910572Z"
    }
   },
   "outputs": [
    {
     "data": {
      "image/png": "[encoded data removed]",
      "text/plain": [
       "<Figure size 432x288 with 1 Axes>"
      ]
     },
     "metadata": {
      "image/png": {
       "height": 248,
       "width": 251
      },
      "needs_background": "light"
     },
     "output_type": "display_data"
    }
   ],
   "source": [
    "plt.imshow(images[1].numpy().squeeze(), cmap='Greys_r');"
   ]
  },
  {
   "cell_type": "code",
   "execution_count": 64,
   "id": "b524183c",
   "metadata": {
    "ExecuteTime": {
     "end_time": "2022-05-21T16:56:49.052198Z",
     "start_time": "2022-05-21T16:56:49.037238Z"
    }
   },
   "outputs": [],
   "source": [
    "from torch import nn\n",
    "from torch import optim\n",
    "import torch.nn.functional as F"
   ]
  },
  {
   "cell_type": "code",
   "execution_count": 65,
   "id": "d0a6fe78",
   "metadata": {
    "ExecuteTime": {
     "end_time": "2022-05-21T16:56:49.068157Z",
     "start_time": "2022-05-21T16:56:49.053196Z"
    }
   },
   "outputs": [
    {
     "data": {
      "text/plain": [
       "Network(\n",
       "  (fc1): Linear(in_features=784, out_features=128, bias=True)\n",
       "  (fc2): Linear(in_features=128, out_features=64, bias=True)\n",
       "  (fc3): Linear(in_features=64, out_features=10, bias=True)\n",
       ")"
      ]
     },
     "execution_count": 65,
     "metadata": {},
     "output_type": "execute_result"
    }
   ],
   "source": [
    "class Network(nn.Module):\n",
    "    def __init__(self):\n",
    "        super().__init__()\n",
    "        # Defining the layers, 128, 64, 10 units each\n",
    "        self.fc1 = nn.Linear(784, 128)\n",
    "        self.fc2 = nn.Linear(128, 64)\n",
    "        # Output layer, 10 units - one for each digit\n",
    "        self.fc3 = nn.Linear(64, 10)\n",
    "        \n",
    "    def forward(self, x):\n",
    "        ''' Forward pass through the network, returns the output logits '''\n",
    "        \n",
    "        x = self.fc1(x)\n",
    "        x = F.relu(x)\n",
    "        x = self.fc2(x)\n",
    "        x = F.relu(x)\n",
    "        x = self.fc3(x)\n",
    "        x = F.softmax(x, dim=1)\n",
    "        \n",
    "        return x\n",
    "\n",
    "model = Network()\n",
    "model"
   ]
  },
  {
   "cell_type": "code",
   "execution_count": 66,
   "id": "f0281381",
   "metadata": {
    "ExecuteTime": {
     "end_time": "2022-05-21T16:56:49.084116Z",
     "start_time": "2022-05-21T16:56:49.069154Z"
    }
   },
   "outputs": [
    {
     "name": "stdout",
     "output_type": "stream",
     "text": [
      "Parameter containing:\n",
      "tensor([[-0.0006, -0.0127, -0.0279,  ..., -0.0349,  0.0244, -0.0062],\n",
      "        [ 0.0023,  0.0339, -0.0276,  ...,  0.0151, -0.0262, -0.0085],\n",
      "        [-0.0085, -0.0032,  0.0178,  ..., -0.0190,  0.0305, -0.0322],\n",
      "        ...,\n",
      "        [-0.0085,  0.0156, -0.0063,  ...,  0.0092,  0.0283, -0.0194],\n",
      "        [ 0.0354, -0.0252, -0.0004,  ...,  0.0257,  0.0003, -0.0272],\n",
      "        [-0.0068, -0.0075, -0.0160,  ...,  0.0146, -0.0103, -0.0230]],\n",
      "       requires_grad=True)\n",
      "Parameter containing:\n",
      "tensor([-0.0205,  0.0083,  0.0208, -0.0295,  0.0146, -0.0069,  0.0319,  0.0029,\n",
      "         0.0305, -0.0170,  0.0004,  0.0006,  0.0341,  0.0352,  0.0321,  0.0356,\n",
      "        -0.0292,  0.0079, -0.0322, -0.0234, -0.0152,  0.0016, -0.0177, -0.0260,\n",
      "        -0.0330, -0.0046,  0.0165,  0.0275, -0.0070,  0.0047, -0.0295,  0.0192,\n",
      "        -0.0035,  0.0039, -0.0302,  0.0044,  0.0277,  0.0323,  0.0179,  0.0151,\n",
      "         0.0244, -0.0081, -0.0020,  0.0137,  0.0138,  0.0016, -0.0159, -0.0317,\n",
      "         0.0100,  0.0104, -0.0213,  0.0051, -0.0294, -0.0099,  0.0070,  0.0196,\n",
      "        -0.0306,  0.0353,  0.0351,  0.0329,  0.0062, -0.0293, -0.0125, -0.0349,\n",
      "        -0.0326,  0.0033, -0.0061, -0.0259,  0.0029, -0.0272,  0.0238,  0.0257,\n",
      "        -0.0156, -0.0149, -0.0337, -0.0229, -0.0086, -0.0213, -0.0002, -0.0059,\n",
      "         0.0209,  0.0265, -0.0003,  0.0202, -0.0109,  0.0114, -0.0045, -0.0046,\n",
      "        -0.0142, -0.0080, -0.0124,  0.0147,  0.0040,  0.0275, -0.0052,  0.0161,\n",
      "        -0.0176, -0.0209, -0.0342, -0.0166, -0.0196, -0.0286, -0.0112, -0.0155,\n",
      "         0.0114, -0.0217,  0.0086,  0.0041, -0.0031,  0.0100,  0.0301,  0.0351,\n",
      "         0.0049,  0.0355,  0.0256, -0.0138, -0.0155, -0.0108,  0.0284,  0.0070,\n",
      "        -0.0258,  0.0021,  0.0132, -0.0238, -0.0336, -0.0063, -0.0113, -0.0244],\n",
      "       requires_grad=True)\n"
     ]
    }
   ],
   "source": [
    "print(model.fc1.weight)\n",
    "print(model.fc1.bias)"
   ]
  },
  {
   "cell_type": "code",
   "execution_count": 67,
   "id": "6349d2e1",
   "metadata": {
    "ExecuteTime": {
     "end_time": "2022-05-21T16:56:49.099078Z",
     "start_time": "2022-05-21T16:56:49.085120Z"
    }
   },
   "outputs": [
    {
     "data": {
      "text/plain": [
       "tensor([0., 0., 0., 0., 0., 0., 0., 0., 0., 0., 0., 0., 0., 0., 0., 0., 0., 0., 0., 0., 0., 0., 0., 0.,\n",
       "        0., 0., 0., 0., 0., 0., 0., 0., 0., 0., 0., 0., 0., 0., 0., 0., 0., 0., 0., 0., 0., 0., 0., 0.,\n",
       "        0., 0., 0., 0., 0., 0., 0., 0., 0., 0., 0., 0., 0., 0., 0., 0., 0., 0., 0., 0., 0., 0., 0., 0.,\n",
       "        0., 0., 0., 0., 0., 0., 0., 0., 0., 0., 0., 0., 0., 0., 0., 0., 0., 0., 0., 0., 0., 0., 0., 0.,\n",
       "        0., 0., 0., 0., 0., 0., 0., 0., 0., 0., 0., 0., 0., 0., 0., 0., 0., 0., 0., 0., 0., 0., 0., 0.,\n",
       "        0., 0., 0., 0., 0., 0., 0., 0.])"
      ]
     },
     "execution_count": 67,
     "metadata": {},
     "output_type": "execute_result"
    }
   ],
   "source": [
    "# Set biases to all zeros\n",
    "model.fc1.bias.data.fill_(0)"
   ]
  },
  {
   "cell_type": "code",
   "execution_count": 68,
   "id": "071a9b83",
   "metadata": {
    "ExecuteTime": {
     "end_time": "2022-05-21T16:56:49.115048Z",
     "start_time": "2022-05-21T16:56:49.102083Z"
    }
   },
   "outputs": [
    {
     "data": {
      "text/plain": [
       "tensor([[-0.0133,  0.0102, -0.0051,  ...,  0.0009, -0.0085,  0.0015],\n",
       "        [ 0.0124, -0.0019, -0.0013,  ..., -0.0152, -0.0063,  0.0162],\n",
       "        [-0.0039, -0.0085,  0.0033,  ...,  0.0070, -0.0008, -0.0042],\n",
       "        ...,\n",
       "        [-0.0076, -0.0133,  0.0067,  ...,  0.0014,  0.0218,  0.0043],\n",
       "        [ 0.0086,  0.0181, -0.0036,  ...,  0.0054, -0.0147, -0.0004],\n",
       "        [ 0.0009, -0.0048, -0.0040,  ...,  0.0033,  0.0020, -0.0103]])"
      ]
     },
     "execution_count": 68,
     "metadata": {},
     "output_type": "execute_result"
    }
   ],
   "source": [
    "# sample from random normal with standard dev = 0.01\n",
    "model.fc1.weight.data.normal_(std=0.01)"
   ]
  },
  {
   "cell_type": "code",
   "execution_count": 69,
   "id": "0b171483",
   "metadata": {
    "ExecuteTime": {
     "end_time": "2022-05-21T16:56:49.370375Z",
     "start_time": "2022-05-21T16:56:49.116035Z"
    }
   },
   "outputs": [
    {
     "data": {
      "image/png": "[encoded data removed]",
      "text/plain": [
       "<Figure size 432x648 with 2 Axes>"
      ]
     },
     "metadata": {
      "image/png": {
       "height": 235,
       "width": 424
      },
      "needs_background": "light"
     },
     "output_type": "display_data"
    }
   ],
   "source": [
    "# Grab some data \n",
    "dataiter = iter(trainloader)\n",
    "images, labels = dataiter.next()\n",
    "\n",
    "# Resize images into a 1D vector, new shape is (batch size, color channels, image pixels) \n",
    "images.resize_(64, 1, 784)\n",
    "# or images.resize_(images.shape[0], 1, 784) to not automatically get batch size\n",
    "\n",
    "# Forward pass through the network\n",
    "img_idx = 0\n",
    "ps = model.forward(images[img_idx,:])\n",
    "\n",
    "img = images[img_idx]\n",
    "helper_1.view_classify(img.view(1, 28, 28), ps)"
   ]
  },
  {
   "cell_type": "code",
   "execution_count": 70,
   "id": "883144ea",
   "metadata": {
    "ExecuteTime": {
     "end_time": "2022-05-21T16:56:49.559885Z",
     "start_time": "2022-05-21T16:56:49.371373Z"
    }
   },
   "outputs": [
    {
     "name": "stdout",
     "output_type": "stream",
     "text": [
      "Sequential(\n",
      "  (0): Linear(in_features=784, out_features=128, bias=True)\n",
      "  (1): ReLU()\n",
      "  (2): Linear(in_features=128, out_features=64, bias=True)\n",
      "  (3): ReLU()\n",
      "  (4): Linear(in_features=64, out_features=10, bias=True)\n",
      "  (5): Softmax(dim=1)\n",
      ")\n"
     ]
    },
    {
     "data": {
      "image/png": "[encoded data removed]",
      "text/plain": [
       "<Figure size 432x648 with 2 Axes>"
      ]
     },
     "metadata": {
      "image/png": {
       "height": 235,
       "width": 424
      },
      "needs_background": "light"
     },
     "output_type": "display_data"
    }
   ],
   "source": [
    "# Hyperparameters for our network\n",
    "input_size = 784\n",
    "hidden_sizes = [128, 64]\n",
    "output_size = 10\n",
    "\n",
    "# Build a feed-forward network\n",
    "model = nn.Sequential(nn.Linear(input_size, hidden_sizes[0]),\n",
    "                      nn.ReLU(),\n",
    "                      nn.Linear(hidden_sizes[0], hidden_sizes[1]),\n",
    "                      nn.ReLU(),\n",
    "                      nn.Linear(hidden_sizes[1], output_size),\n",
    "                      nn.Softmax(dim=1))\n",
    "print(model)\n",
    "\n",
    "# Forward pass through the network and display output\n",
    "images, labels = next(iter(trainloader))\n",
    "images.resize_(images.shape[0], 1, 784)\n",
    "ps = model.forward(images[0,:])\n",
    "helper_1.view_classify(images[0].view(1, 28, 28), ps)"
   ]
  },
  {
   "cell_type": "code",
   "execution_count": 71,
   "id": "66131889",
   "metadata": {
    "ExecuteTime": {
     "end_time": "2022-05-21T16:56:49.575844Z",
     "start_time": "2022-05-21T16:56:49.560883Z"
    }
   },
   "outputs": [
    {
     "data": {
      "text/plain": [
       "Sequential(\n",
       "  (fc1): Linear(in_features=784, out_features=128, bias=True)\n",
       "  (relu1): ReLU()\n",
       "  (fc2): Linear(in_features=128, out_features=64, bias=True)\n",
       "  (relu2): ReLU()\n",
       "  (output): Linear(in_features=64, out_features=10, bias=True)\n",
       "  (softmax): Softmax(dim=1)\n",
       ")"
      ]
     },
     "execution_count": 71,
     "metadata": {},
     "output_type": "execute_result"
    }
   ],
   "source": [
    "from collections import OrderedDict\n",
    "model = nn.Sequential(OrderedDict([\n",
    "                      ('fc1', nn.Linear(input_size, hidden_sizes[0])),\n",
    "                      ('relu1', nn.ReLU()),\n",
    "                      ('fc2', nn.Linear(hidden_sizes[0], hidden_sizes[1])),\n",
    "                      ('relu2', nn.ReLU()),\n",
    "                      ('output', nn.Linear(hidden_sizes[1], output_size)),\n",
    "                      ('softmax', nn.Softmax(dim=1))]))\n",
    "model"
   ]
  },
  {
   "cell_type": "markdown",
   "id": "a9388e28",
   "metadata": {},
   "source": [
    "# Training Networks"
   ]
  },
  {
   "cell_type": "code",
   "execution_count": 72,
   "id": "4750cac0",
   "metadata": {
    "ExecuteTime": {
     "end_time": "2022-05-21T16:56:49.591804Z",
     "start_time": "2022-05-21T16:56:49.576841Z"
    }
   },
   "outputs": [],
   "source": [
    "criterion = nn.CrossEntropyLoss()\n",
    "optimizer = optim.SGD(model.parameters(), lr=0.01)"
   ]
  },
  {
   "cell_type": "code",
   "execution_count": 73,
   "id": "026be9b8",
   "metadata": {
    "ExecuteTime": {
     "end_time": "2022-05-21T16:56:49.623727Z",
     "start_time": "2022-05-21T16:56:49.592800Z"
    }
   },
   "outputs": [
    {
     "name": "stdout",
     "output_type": "stream",
     "text": [
      "Initial weights -  Parameter containing:\n",
      "tensor([[ 0.0287,  0.0170, -0.0252,  ..., -0.0295, -0.0043, -0.0148],\n",
      "        [ 0.0092, -0.0248,  0.0289,  ...,  0.0109, -0.0191, -0.0049],\n",
      "        [ 0.0295,  0.0333, -0.0349,  ..., -0.0229, -0.0118, -0.0282],\n",
      "        ...,\n",
      "        [ 0.0337,  0.0238,  0.0165,  ..., -0.0270,  0.0177, -0.0252],\n",
      "        [ 0.0199, -0.0249,  0.0114,  ...,  0.0356,  0.0109, -0.0263],\n",
      "        [-0.0156, -0.0165, -0.0096,  ..., -0.0162,  0.0090, -0.0286]],\n",
      "       requires_grad=True)\n",
      "Gradient - tensor([[ 2.1980e-05,  2.1980e-05,  2.1980e-05,  ...,  2.1980e-05,\n",
      "          2.1980e-05,  2.1980e-05],\n",
      "        [-9.4162e-05, -9.4162e-05, -9.4162e-05,  ..., -9.4162e-05,\n",
      "         -9.4162e-05, -9.4162e-05],\n",
      "        [ 1.5725e-04,  1.5725e-04,  1.5725e-04,  ...,  1.5725e-04,\n",
      "          1.5725e-04,  1.5725e-04],\n",
      "        ...,\n",
      "        [ 1.4154e-04,  1.4154e-04,  1.4154e-04,  ...,  1.4154e-04,\n",
      "          1.4154e-04,  1.4154e-04],\n",
      "        [ 2.1700e-04,  2.1700e-04,  2.1700e-04,  ...,  2.1700e-04,\n",
      "          2.1700e-04,  2.1700e-04],\n",
      "        [ 2.2155e-04,  2.2155e-04,  2.2155e-04,  ...,  2.2155e-04,\n",
      "          2.2155e-04,  2.2155e-04]])\n",
      "Updated weights -  Parameter containing:\n",
      "tensor([[ 0.0287,  0.0170, -0.0252,  ..., -0.0295, -0.0043, -0.0148],\n",
      "        [ 0.0092, -0.0248,  0.0289,  ...,  0.0109, -0.0191, -0.0049],\n",
      "        [ 0.0295,  0.0333, -0.0349,  ..., -0.0229, -0.0118, -0.0282],\n",
      "        ...,\n",
      "        [ 0.0336,  0.0238,  0.0165,  ..., -0.0270,  0.0177, -0.0252],\n",
      "        [ 0.0199, -0.0249,  0.0114,  ...,  0.0356,  0.0109, -0.0263],\n",
      "        [-0.0156, -0.0165, -0.0096,  ..., -0.0162,  0.0090, -0.0286]],\n",
      "       requires_grad=True)\n"
     ]
    }
   ],
   "source": [
    "print('Initial weights - ', model.fc1.weight)\n",
    "\n",
    "images, labels = next(iter(trainloader))\n",
    "images.resize_(64, 784)\n",
    "\n",
    "# Clear the gradients, do this because gradients are accumulated\n",
    "optimizer.zero_grad()\n",
    "\n",
    "# Forward pass, then backward pass, then update weights\n",
    "output = model.forward(images)\n",
    "loss = criterion(output, labels)\n",
    "loss.backward()\n",
    "print('Gradient -', model.fc1.weight.grad)\n",
    "optimizer.step()\n",
    "print('Updated weights - ', model.fc1.weight)"
   ]
  },
  {
   "cell_type": "code",
   "execution_count": 74,
   "id": "80402214",
   "metadata": {
    "ExecuteTime": {
     "end_time": "2022-05-21T16:56:49.639700Z",
     "start_time": "2022-05-21T16:56:49.624732Z"
    }
   },
   "outputs": [],
   "source": [
    "optimizer = optim.SGD(model.parameters(), lr=0.003)"
   ]
  },
  {
   "cell_type": "code",
   "execution_count": 77,
   "id": "b0b405cb",
   "metadata": {
    "ExecuteTime": {
     "end_time": "2022-05-21T16:58:55.507884Z",
     "start_time": "2022-05-21T16:57:28.070138Z"
    }
   },
   "outputs": [
    {
     "name": "stdout",
     "output_type": "stream",
     "text": [
      "Epoch: 1/10...  Loss: 2.2600\n",
      "Epoch: 1/10...  Loss: 2.2541\n",
      "Epoch: 1/10...  Loss: 2.2508\n",
      "Epoch: 1/10...  Loss: 2.2482\n",
      "Epoch: 1/10...  Loss: 2.2480\n",
      "Epoch: 1/10...  Loss: 2.2451\n",
      "Epoch: 1/10...  Loss: 2.2396\n",
      "Epoch: 1/10...  Loss: 2.2360\n",
      "Epoch: 1/10...  Loss: 2.2387\n",
      "Epoch: 1/10...  Loss: 2.2397\n",
      "Epoch: 1/10...  Loss: 2.2347\n",
      "Epoch: 1/10...  Loss: 2.2333\n",
      "Epoch: 1/10...  Loss: 2.2272\n",
      "Epoch: 1/10...  Loss: 2.2286\n",
      "Epoch: 1/10...  Loss: 2.2225\n",
      "Epoch: 1/10...  Loss: 2.2278\n",
      "Epoch: 1/10...  Loss: 2.2205\n",
      "Epoch: 1/10...  Loss: 2.2213\n",
      "Epoch: 1/10...  Loss: 2.2134\n",
      "Epoch: 1/10...  Loss: 2.2074\n",
      "Epoch: 1/10...  Loss: 2.2159\n",
      "Epoch: 1/10...  Loss: 2.2149\n",
      "Epoch: 1/10...  Loss: 2.2106\n",
      "Epoch: 2/10...  Loss: 1.2122\n",
      "Epoch: 2/10...  Loss: 2.1990\n",
      "Epoch: 2/10...  Loss: 2.1940\n",
      "Epoch: 2/10...  Loss: 2.1995\n",
      "Epoch: 2/10...  Loss: 2.1879\n",
      "Epoch: 2/10...  Loss: 2.1865\n",
      "Epoch: 2/10...  Loss: 2.1961\n",
      "Epoch: 2/10...  Loss: 2.1819\n",
      "Epoch: 2/10...  Loss: 2.1807\n",
      "Epoch: 2/10...  Loss: 2.1752\n",
      "Epoch: 2/10...  Loss: 2.1770\n",
      "Epoch: 2/10...  Loss: 2.1741\n",
      "Epoch: 2/10...  Loss: 2.1702\n",
      "Epoch: 2/10...  Loss: 2.1727\n",
      "Epoch: 2/10...  Loss: 2.1592\n",
      "Epoch: 2/10...  Loss: 2.1654\n",
      "Epoch: 2/10...  Loss: 2.1485\n",
      "Epoch: 2/10...  Loss: 2.1413\n",
      "Epoch: 2/10...  Loss: 2.1397\n",
      "Epoch: 2/10...  Loss: 2.1298\n",
      "Epoch: 2/10...  Loss: 2.1289\n",
      "Epoch: 2/10...  Loss: 2.1355\n",
      "Epoch: 2/10...  Loss: 2.1161\n",
      "Epoch: 3/10...  Loss: 0.2131\n",
      "Epoch: 3/10...  Loss: 2.1016\n",
      "Epoch: 3/10...  Loss: 2.1126\n",
      "Epoch: 3/10...  Loss: 2.0945\n",
      "Epoch: 3/10...  Loss: 2.0936\n",
      "Epoch: 3/10...  Loss: 2.0924\n",
      "Epoch: 3/10...  Loss: 2.0921\n",
      "Epoch: 3/10...  Loss: 2.0819\n",
      "Epoch: 3/10...  Loss: 2.0799\n",
      "Epoch: 3/10...  Loss: 2.0692\n",
      "Epoch: 3/10...  Loss: 2.0776\n",
      "Epoch: 3/10...  Loss: 2.0535\n",
      "Epoch: 3/10...  Loss: 2.0649\n",
      "Epoch: 3/10...  Loss: 2.0519\n",
      "Epoch: 3/10...  Loss: 2.0667\n",
      "Epoch: 3/10...  Loss: 2.0444\n",
      "Epoch: 3/10...  Loss: 2.0396\n",
      "Epoch: 3/10...  Loss: 2.0403\n",
      "Epoch: 3/10...  Loss: 2.0245\n",
      "Epoch: 3/10...  Loss: 2.0322\n",
      "Epoch: 3/10...  Loss: 2.0329\n",
      "Epoch: 3/10...  Loss: 2.0245\n",
      "Epoch: 3/10...  Loss: 2.0143\n",
      "Epoch: 3/10...  Loss: 2.0049\n",
      "Epoch: 4/10...  Loss: 1.3019\n",
      "Epoch: 4/10...  Loss: 2.0121\n",
      "Epoch: 4/10...  Loss: 1.9982\n",
      "Epoch: 4/10...  Loss: 1.9916\n",
      "Epoch: 4/10...  Loss: 1.9894\n",
      "Epoch: 4/10...  Loss: 1.9777\n",
      "Epoch: 4/10...  Loss: 1.9778\n",
      "Epoch: 4/10...  Loss: 1.9767\n",
      "Epoch: 4/10...  Loss: 1.9723\n",
      "Epoch: 4/10...  Loss: 1.9608\n",
      "Epoch: 4/10...  Loss: 1.9729\n",
      "Epoch: 4/10...  Loss: 1.9573\n",
      "Epoch: 4/10...  Loss: 1.9732\n",
      "Epoch: 4/10...  Loss: 1.9621\n",
      "Epoch: 4/10...  Loss: 1.9409\n",
      "Epoch: 4/10...  Loss: 1.9615\n",
      "Epoch: 4/10...  Loss: 1.9604\n",
      "Epoch: 4/10...  Loss: 1.9368\n",
      "Epoch: 4/10...  Loss: 1.9586\n",
      "Epoch: 4/10...  Loss: 1.9467\n",
      "Epoch: 4/10...  Loss: 1.9535\n",
      "Epoch: 4/10...  Loss: 1.9362\n",
      "Epoch: 4/10...  Loss: 1.9416\n",
      "Epoch: 5/10...  Loss: 0.3869\n",
      "Epoch: 5/10...  Loss: 1.9374\n",
      "Epoch: 5/10...  Loss: 1.9262\n",
      "Epoch: 5/10...  Loss: 1.9413\n",
      "Epoch: 5/10...  Loss: 1.9246\n",
      "Epoch: 5/10...  Loss: 1.9051\n",
      "Epoch: 5/10...  Loss: 1.9238\n",
      "Epoch: 5/10...  Loss: 1.9162\n",
      "Epoch: 5/10...  Loss: 1.9080\n",
      "Epoch: 5/10...  Loss: 1.9135\n",
      "Epoch: 5/10...  Loss: 1.9120\n",
      "Epoch: 5/10...  Loss: 1.9229\n",
      "Epoch: 5/10...  Loss: 1.9267\n",
      "Epoch: 5/10...  Loss: 1.9127\n",
      "Epoch: 5/10...  Loss: 1.9188\n",
      "Epoch: 5/10...  Loss: 1.9117\n",
      "Epoch: 5/10...  Loss: 1.9161\n",
      "Epoch: 5/10...  Loss: 1.9020\n",
      "Epoch: 5/10...  Loss: 1.9242\n",
      "Epoch: 5/10...  Loss: 1.9195\n",
      "Epoch: 5/10...  Loss: 1.9222\n",
      "Epoch: 5/10...  Loss: 1.9035\n",
      "Epoch: 5/10...  Loss: 1.9090\n",
      "Epoch: 5/10...  Loss: 1.9156\n",
      "Epoch: 6/10...  Loss: 1.4214\n",
      "Epoch: 6/10...  Loss: 1.9002\n",
      "Epoch: 6/10...  Loss: 1.9082\n",
      "Epoch: 6/10...  Loss: 1.9151\n",
      "Epoch: 6/10...  Loss: 1.9082\n",
      "Epoch: 6/10...  Loss: 1.8848\n",
      "Epoch: 6/10...  Loss: 1.9141\n",
      "Epoch: 6/10...  Loss: 1.9060\n",
      "Epoch: 6/10...  Loss: 1.9016\n",
      "Epoch: 6/10...  Loss: 1.8951\n",
      "Epoch: 6/10...  Loss: 1.8897\n",
      "Epoch: 6/10...  Loss: 1.8936\n",
      "Epoch: 6/10...  Loss: 1.9043\n",
      "Epoch: 6/10...  Loss: 1.9027\n",
      "Epoch: 6/10...  Loss: 1.8996\n",
      "Epoch: 6/10...  Loss: 1.9023\n",
      "Epoch: 6/10...  Loss: 1.8959\n",
      "Epoch: 6/10...  Loss: 1.8993\n",
      "Epoch: 6/10...  Loss: 1.8927\n",
      "Epoch: 6/10...  Loss: 1.8870\n",
      "Epoch: 6/10...  Loss: 1.8879\n",
      "Epoch: 6/10...  Loss: 1.8923\n",
      "Epoch: 6/10...  Loss: 1.8945\n",
      "Epoch: 7/10...  Loss: 0.5676\n",
      "Epoch: 7/10...  Loss: 1.8938\n",
      "Epoch: 7/10...  Loss: 1.8962\n",
      "Epoch: 7/10...  Loss: 1.8939\n",
      "Epoch: 7/10...  Loss: 1.8872\n",
      "Epoch: 7/10...  Loss: 1.8982\n",
      "Epoch: 7/10...  Loss: 1.8854\n",
      "Epoch: 7/10...  Loss: 1.8977\n",
      "Epoch: 7/10...  Loss: 1.9015\n",
      "Epoch: 7/10...  Loss: 1.8943\n",
      "Epoch: 7/10...  Loss: 1.8808\n",
      "Epoch: 7/10...  Loss: 1.8905\n",
      "Epoch: 7/10...  Loss: 1.8982\n",
      "Epoch: 7/10...  Loss: 1.8887\n",
      "Epoch: 7/10...  Loss: 1.8886\n",
      "Epoch: 7/10...  Loss: 1.8734\n",
      "Epoch: 7/10...  Loss: 1.8799\n",
      "Epoch: 7/10...  Loss: 1.8760\n",
      "Epoch: 7/10...  Loss: 1.8773\n",
      "Epoch: 7/10...  Loss: 1.8787\n",
      "Epoch: 7/10...  Loss: 1.8858\n",
      "Epoch: 7/10...  Loss: 1.8792\n",
      "Epoch: 7/10...  Loss: 1.8921\n",
      "Epoch: 7/10...  Loss: 1.8910\n",
      "Epoch: 8/10...  Loss: 1.5948\n",
      "Epoch: 8/10...  Loss: 1.8774\n",
      "Epoch: 8/10...  Loss: 1.8886\n",
      "Epoch: 8/10...  Loss: 1.8816\n",
      "Epoch: 8/10...  Loss: 1.8848\n",
      "Epoch: 8/10...  Loss: 1.8915\n",
      "Epoch: 8/10...  Loss: 1.8817\n",
      "Epoch: 8/10...  Loss: 1.8903\n",
      "Epoch: 8/10...  Loss: 1.8915\n",
      "Epoch: 8/10...  Loss: 1.8849\n",
      "Epoch: 8/10...  Loss: 1.8592\n",
      "Epoch: 8/10...  Loss: 1.8804\n",
      "Epoch: 8/10...  Loss: 1.8971\n",
      "Epoch: 8/10...  Loss: 1.8766\n",
      "Epoch: 8/10...  Loss: 1.8828\n",
      "Epoch: 8/10...  Loss: 1.8739\n",
      "Epoch: 8/10...  Loss: 1.8790\n",
      "Epoch: 8/10...  Loss: 1.8662\n",
      "Epoch: 8/10...  Loss: 1.8721\n",
      "Epoch: 8/10...  Loss: 1.8624\n",
      "Epoch: 8/10...  Loss: 1.8604\n",
      "Epoch: 8/10...  Loss: 1.8625\n",
      "Epoch: 8/10...  Loss: 1.8693\n",
      "Epoch: 9/10...  Loss: 0.7438\n",
      "Epoch: 9/10...  Loss: 1.8639\n",
      "Epoch: 9/10...  Loss: 1.8614\n",
      "Epoch: 9/10...  Loss: 1.8615\n",
      "Epoch: 9/10...  Loss: 1.8613\n",
      "Epoch: 9/10...  Loss: 1.8402\n",
      "Epoch: 9/10...  Loss: 1.8673\n",
      "Epoch: 9/10...  Loss: 1.8531\n",
      "Epoch: 9/10...  Loss: 1.8611\n",
      "Epoch: 9/10...  Loss: 1.8569\n",
      "Epoch: 9/10...  Loss: 1.8756\n",
      "Epoch: 9/10...  Loss: 1.8415\n",
      "Epoch: 9/10...  Loss: 1.8383\n",
      "Epoch: 9/10...  Loss: 1.8560\n",
      "Epoch: 9/10...  Loss: 1.8615\n",
      "Epoch: 9/10...  Loss: 1.8420\n",
      "Epoch: 9/10...  Loss: 1.8541\n",
      "Epoch: 9/10...  Loss: 1.8479\n",
      "Epoch: 9/10...  Loss: 1.8542\n",
      "Epoch: 9/10...  Loss: 1.8484\n",
      "Epoch: 9/10...  Loss: 1.8420\n",
      "Epoch: 9/10...  Loss: 1.8379\n",
      "Epoch: 9/10...  Loss: 1.8444\n",
      "Epoch: 9/10...  Loss: 1.8562\n",
      "Epoch: 10/10...  Loss: 1.7465\n",
      "Epoch: 10/10...  Loss: 1.8454\n",
      "Epoch: 10/10...  Loss: 1.8182\n",
      "Epoch: 10/10...  Loss: 1.8374\n",
      "Epoch: 10/10...  Loss: 1.8351\n",
      "Epoch: 10/10...  Loss: 1.8382\n",
      "Epoch: 10/10...  Loss: 1.8449\n",
      "Epoch: 10/10...  Loss: 1.8503\n",
      "Epoch: 10/10...  Loss: 1.8283\n",
      "Epoch: 10/10...  Loss: 1.8369\n",
      "Epoch: 10/10...  Loss: 1.8467\n",
      "Epoch: 10/10...  Loss: 1.8300\n",
      "Epoch: 10/10...  Loss: 1.8377\n",
      "Epoch: 10/10...  Loss: 1.8279\n",
      "Epoch: 10/10...  Loss: 1.8298\n",
      "Epoch: 10/10...  Loss: 1.8185\n",
      "Epoch: 10/10...  Loss: 1.8249\n",
      "Epoch: 10/10...  Loss: 1.8342\n",
      "Epoch: 10/10...  Loss: 1.8455\n",
      "Epoch: 10/10...  Loss: 1.8364\n",
      "Epoch: 10/10...  Loss: 1.8375\n",
      "Epoch: 10/10...  Loss: 1.8424\n",
      "Epoch: 10/10...  Loss: 1.8313\n"
     ]
    }
   ],
   "source": [
    "epochs = 10\n",
    "print_every = 40\n",
    "steps = 0\n",
    "for e in range(epochs):\n",
    "    running_loss = 0\n",
    "    for images, labels in iter(trainloader):\n",
    "        steps += 1\n",
    "        # Flatten MNIST images into a 784 long vector\n",
    "        images.resize_(images.size()[0], 784)\n",
    "        \n",
    "        optimizer.zero_grad()\n",
    "        \n",
    "        # Forward and backward passes\n",
    "        output = model.forward(images)\n",
    "        loss = criterion(output, labels)\n",
    "        loss.backward()\n",
    "        optimizer.step()\n",
    "        \n",
    "        running_loss += loss.item()\n",
    "        \n",
    "        if steps % print_every == 0:\n",
    "            print(\"Epoch: {}/{}... \".format(e+1, epochs),\n",
    "                  \"Loss: {:.4f}\".format(running_loss/print_every))\n",
    "            \n",
    "            running_loss = 0"
   ]
  },
  {
   "cell_type": "code",
   "execution_count": 90,
   "id": "3d280d17",
   "metadata": {
    "ExecuteTime": {
     "end_time": "2022-05-21T16:59:37.526374Z",
     "start_time": "2022-05-21T16:59:37.345871Z"
    }
   },
   "outputs": [
    {
     "data": {
      "image/png": "[encoded data removed]",
      "text/plain": [
       "<Figure size 432x648 with 2 Axes>"
      ]
     },
     "metadata": {
      "image/png": {
       "height": 235,
       "width": 424
      },
      "needs_background": "light"
     },
     "output_type": "display_data"
    }
   ],
   "source": [
    "images, labels = next(iter(trainloader))\n",
    "\n",
    "img = images[0].view(1, 784)\n",
    "# Turn off gradients to speed up this part\n",
    "with torch.no_grad():\n",
    "    logits = model.forward(img)\n",
    "\n",
    "# Output of the network are logits, need to take softmax for probabilities\n",
    "ps = F.softmax(logits, dim=1)\n",
    "helper_1.view_classify(img.view(1, 28, 28), ps)"
   ]
  },
  {
   "cell_type": "code",
   "execution_count": null,
   "id": "6a93599a",
   "metadata": {},
   "outputs": [],
   "source": [
    "# Start from Video 6 Fashion MNIST. \n",
    "# "
   ]
  }
 ],
 "metadata": {
  "hide_input": false,
  "kernelspec": {
   "display_name": "Python 3 (ipykernel)",
   "language": "python",
   "name": "python3"
  },
  "language_info": {
   "codemirror_mode": {
    "name": "ipython",
    "version": 3
   },
   "file_extension": ".py",
   "mimetype": "text/x-python",
   "name": "python",
   "nbconvert_exporter": "python",
   "pygments_lexer": "ipython3",
   "version": "3.8.8"
  },
  "toc": {
   "base_numbering": 1,
   "nav_menu": {},
   "number_sections": true,
   "sideBar": true,
   "skip_h1_title": false,
   "title_cell": "Table of Contents",
   "title_sidebar": "Contents",
   "toc_cell": false,
   "toc_position": {},
   "toc_section_display": true,
   "toc_window_display": false
  }
 },
 "nbformat": 4,
 "nbformat_minor": 5
}
